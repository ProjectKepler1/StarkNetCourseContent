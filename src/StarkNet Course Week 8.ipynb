{
 "cells": [
  {
   "cell_type": "markdown",
   "id": "46cdfdd2",
   "metadata": {},
   "source": [
    "# StarkNet Course Week 8\n",
    "\n",
    "This week we are going to talk about oracles."
   ]
  },
  {
   "cell_type": "markdown",
   "id": "94387ce8",
   "metadata": {},
   "source": [
    "The `HashBuiltin` is needed to read and write to `@storage_var`s, because they are a hashmap."
   ]
  },
  {
   "cell_type": "code",
   "execution_count": 14,
   "id": "92da7ba1",
   "metadata": {},
   "outputs": [
    {
     "name": "stdout",
     "output_type": "stream",
     "text": [
      "Overwriting Oracle.cairo\n"
     ]
    }
   ],
   "source": [
    "%%file \"Oracle.cairo\"\n",
    "%lang starknet\n",
    "\n",
    "from starkware.cairo.common.cairo_builtins import HashBuiltin"
   ]
  },
  {
   "cell_type": "markdown",
   "id": "f8d095d6",
   "metadata": {},
   "source": [
    "Then we need block numbers to keep track of chain-time. There's also a timestamp call but it's unreliable as of now."
   ]
  },
  {
   "cell_type": "code",
   "execution_count": 15,
   "id": "8c22adeb",
   "metadata": {},
   "outputs": [
    {
     "name": "stdout",
     "output_type": "stream",
     "text": [
      "Appending to Oracle.cairo\n"
     ]
    }
   ],
   "source": [
    "%%file -a \"Oracle.cairo\"\n",
    "\n",
    "from starkware.starknet.common.syscalls import get_block_number"
   ]
  },
  {
   "cell_type": "markdown",
   "id": "43c3483d",
   "metadata": {},
   "source": [
    "We also need to check values within specific ranges, so for `felt`s, `assert_lt` and `unsigned_div_rem` are useful."
   ]
  },
  {
   "cell_type": "code",
   "execution_count": 16,
   "id": "935f8c08",
   "metadata": {},
   "outputs": [
    {
     "name": "stdout",
     "output_type": "stream",
     "text": [
      "Appending to Oracle.cairo\n"
     ]
    }
   ],
   "source": [
    "%%file -a \"Oracle.cairo\"\n",
    "\n",
    "from starkware.cairo.common.math import assert_lt, unsigned_div_rem"
   ]
  },
  {
   "cell_type": "markdown",
   "id": "90aec27c",
   "metadata": {},
   "source": [
    "And for the final import, lets use some OZ functionality to make our lives easier and less error prone."
   ]
  },
  {
   "cell_type": "code",
   "execution_count": 17,
   "id": "efb7c117",
   "metadata": {},
   "outputs": [
    {
     "name": "stdout",
     "output_type": "stream",
     "text": [
      "Appending to Oracle.cairo\n"
     ]
    }
   ],
   "source": [
    "%%file -a \"Oracle.cairo\"\n",
    "\n",
    "from openzeppelin.access.ownable.library import Ownable"
   ]
  },
  {
   "cell_type": "markdown",
   "id": "30e7310e",
   "metadata": {},
   "source": [
    "The first thing we need in an oracle is some place to store a sequence of values."
   ]
  },
  {
   "cell_type": "code",
   "execution_count": 18,
   "id": "e62c7ba9",
   "metadata": {},
   "outputs": [
    {
     "name": "stdout",
     "output_type": "stream",
     "text": [
      "Appending to Oracle.cairo\n"
     ]
    }
   ],
   "source": [
    "%%file -a \"Oracle.cairo\"\n",
    "\n",
    "@storage_var\n",
    "func timeseries(time: felt) -> (value: felt) {\n",
    "}"
   ]
  },
  {
   "cell_type": "markdown",
   "id": "d7559c2f",
   "metadata": {},
   "source": [
    "But then we also need to keep track of what the latest position in the timeseries is so we can retrieve it later on."
   ]
  },
  {
   "cell_type": "code",
   "execution_count": 19,
   "id": "74d4dd62",
   "metadata": {},
   "outputs": [
    {
     "name": "stdout",
     "output_type": "stream",
     "text": [
      "Appending to Oracle.cairo\n"
     ]
    }
   ],
   "source": [
    "%%file -a \"Oracle.cairo\"\n",
    "@storage_var\n",
    "func latest_time() -> (time: felt) {\n",
    "}"
   ]
  },
  {
   "cell_type": "markdown",
   "id": "8d354120",
   "metadata": {},
   "source": [
    "It is also a good idea to notify offchain systems of what is happening in the Oracle, so whenever we receive new data, we could emit an event:"
   ]
  },
  {
   "cell_type": "code",
   "execution_count": 20,
   "id": "bb051935",
   "metadata": {},
   "outputs": [
    {
     "name": "stdout",
     "output_type": "stream",
     "text": [
      "Appending to Oracle.cairo\n"
     ]
    }
   ],
   "source": [
    "%%file -a \"Oracle.cairo\"\n",
    "\n",
    "@event\n",
    "func value_added(time: felt, value: felt) {\n",
    "}"
   ]
  },
  {
   "cell_type": "markdown",
   "id": "181c210e",
   "metadata": {},
   "source": [
    "Next, we need to initialize the contract during deployment:"
   ]
  },
  {
   "cell_type": "code",
   "execution_count": 21,
   "id": "c5bedfac",
   "metadata": {},
   "outputs": [
    {
     "name": "stdout",
     "output_type": "stream",
     "text": [
      "Appending to Oracle.cairo\n"
     ]
    }
   ],
   "source": [
    "%%file -a \"Oracle.cairo\"\n",
    "\n",
    "@constructor\n",
    "func constructor{syscall_ptr: felt*, pedersen_ptr: HashBuiltin*, range_check_ptr}(owner: felt) {\n",
    "    // TODO(assignment): initialize ownership\n",
    "    Ownable.initializer(owner);\n",
    "\n",
    "    return ();\n",
    "}"
   ]
  },
  {
   "cell_type": "markdown",
   "id": "3e7059b0",
   "metadata": {},
   "source": [
    "And now, the core functionality is:"
   ]
  },
  {
   "cell_type": "code",
   "execution_count": 22,
   "id": "9fc21d37",
   "metadata": {},
   "outputs": [
    {
     "name": "stdout",
     "output_type": "stream",
     "text": [
      "Appending to Oracle.cairo\n"
     ]
    }
   ],
   "source": [
    "%%file -a \"Oracle.cairo\"\n",
    "\n",
    "func _process_value{range_check_ptr}(original: felt) -> (processed: felt) {\n",
    "    let (quotient, _) = unsigned_div_rem(original, 100);\n",
    "\n",
    "    if (quotient == 0) {\n",
    "        return (processed=original);\n",
    "    }\n",
    "\n",
    "    return (processed=100);\n",
    "}"
   ]
  },
  {
   "cell_type": "code",
   "execution_count": 23,
   "id": "2be23957",
   "metadata": {},
   "outputs": [
    {
     "name": "stdout",
     "output_type": "stream",
     "text": [
      "Appending to Oracle.cairo\n"
     ]
    }
   ],
   "source": [
    "%%file -a \"Oracle.cairo\"\n",
    "\n",
    "@external\n",
    "func ingest{syscall_ptr: felt*, pedersen_ptr: HashBuiltin*, range_check_ptr}(value: felt) {\n",
    "    // TODO(assignment): check ownership\n",
    "    Ownable.assert_only_owner();\n",
    "    // TODO(assignment): get block number\n",
    "    let (tip) = latest_time.read();\n",
    "    let (time) = get_block_number();\n",
    "    // TODO(assignment): check if there's already a value set for this block (missing test)\n",
    "    with_attr error_message(\"Value already ingested at current block\") {\n",
    "        assert_lt(tip, time);\n",
    "    }\n",
    "    // TODO(assignment): bind the value within the range 0, 100\n",
    "    let (processed_value) = _process_value(value);\n",
    "    // TODO(assignment): write to the timeseries\n",
    "    timeseries.write(time, processed_value);\n",
    "    latest_time.write(time);\n",
    "    // TODO(assignment): emit the `value_added` event (missing test)\n",
    "    value_added.emit(time, processed_value);\n",
    "    \n",
    "    return ();\n",
    "}"
   ]
  },
  {
   "cell_type": "markdown",
   "id": "96d6798d",
   "metadata": {},
   "source": [
    "Finally we should provide blockchain users (i.e.: other contracts) with some form of fetching the information inside the chain:"
   ]
  },
  {
   "cell_type": "code",
   "execution_count": 24,
   "id": "d15aca32",
   "metadata": {},
   "outputs": [
    {
     "name": "stdout",
     "output_type": "stream",
     "text": [
      "Appending to Oracle.cairo\n"
     ]
    }
   ],
   "source": [
    "%%file -a \"Oracle.cairo\"\n",
    "\n",
    "@view\n",
    "func value_at{syscall_ptr: felt*, pedersen_ptr: HashBuiltin*, range_check_ptr}(time: felt) -> (value: felt) {\n",
    "    return timeseries.read(time);\n",
    "}\n",
    "\n",
    "@view\n",
    "func latest_value{syscall_ptr: felt*, pedersen_ptr: HashBuiltin*, range_check_ptr}() -> (value: felt) {\n",
    "    let (tip) = latest_time.read();\n",
    "\n",
    "    return timeseries.read(tip);\n",
    "}"
   ]
  },
  {
   "cell_type": "markdown",
   "id": "6d6cba00",
   "metadata": {},
   "source": [
    "Lets check our implementation:"
   ]
  },
  {
   "cell_type": "code",
   "execution_count": 25,
   "id": "ca95616a",
   "metadata": {},
   "outputs": [
    {
     "name": "stdout",
     "output_type": "stream",
     "text": [
      "\u001b[90m16:29:48\u001b[39m [\u001b[36mINFO\u001b[39m] Collected 1 suite, and 4 test cases (0.054 s)\n",
      "[\u001b[32mPASS\u001b[39m] \u001b[90mtests/test_Oracle.cairo\u001b[39m test_ingest_overflowing_value \u001b[90m(time=\u001b[1m0.11\u001b[22ms, steps=\u001b[1m440\u001b[22m, memory_holes=\u001b[1m20\u001b[22m)\u001b[39m\n",
      "       \u001b[90mpedersen_builtin=\u001b[1m2\u001b[22m\u001b[39m \u001b[90mrange_check_builtin=\u001b[1m10\u001b[22m\u001b[39m\n",
      "[\u001b[32mPASS\u001b[39m] \u001b[90mtests/test_Oracle.cairo\u001b[39m test_ingest_values \u001b[90m(time=\u001b[1m0.35\u001b[22ms, steps=\u001b[1m847\u001b[22m, memory_holes=\u001b[1m40\u001b[22m)\u001b[39m\n",
      "       \u001b[90mpedersen_builtin=\u001b[1m4\u001b[22m\u001b[39m \u001b[90mrange_check_builtin=\u001b[1m20\u001b[22m\u001b[39m\n",
      "[\u001b[32mPASS\u001b[39m] \u001b[90mtests/test_Oracle.cairo\u001b[39m test_ingest_value \u001b[90m(time=\u001b[1m0.11\u001b[22ms, steps=\u001b[1m440\u001b[22m, memory_holes=\u001b[1m20\u001b[22m)\u001b[39m\n",
      "       \u001b[90mpedersen_builtin=\u001b[1m2\u001b[22m\u001b[39m \u001b[90mrange_check_builtin=\u001b[1m10\u001b[22m\u001b[39m\n",
      "[\u001b[32mPASS\u001b[39m] \u001b[90mtests/test_Oracle.cairo\u001b[39m test_ingest_edge_value \u001b[90m(time=\u001b[1m0.11\u001b[22ms, steps=\u001b[1m440\u001b[22m, memory_holes=\u001b[1m20\u001b[22m)\u001b[39m\n",
      "       \u001b[90mpedersen_builtin=\u001b[1m2\u001b[22m\u001b[39m \u001b[90mrange_check_builtin=\u001b[1m10\u001b[22m\u001b[39m\n",
      "                                                                                \u001b[0m[5/?]\u001b[0m\n",
      "\u001b[90m16:29:53\u001b[39m [\u001b[36mINFO\u001b[39m] \u001b[1mTest suites: \u001b[22m\u001b[32m1 passed\u001b[39m, 1 total5/?]\u001b[0m\n",
      "\u001b[90m16:29:53\u001b[39m [\u001b[36mINFO\u001b[39m] \u001b[1mTests:       \u001b[22m\u001b[32m4 passed\u001b[39m, 4 total\n",
      "\u001b[90m16:29:53\u001b[39m [\u001b[36mINFO\u001b[39m] \u001b[1mSeed:        \u001b[22m2127275812\n",
      "\u001b[90m16:29:53\u001b[39m [\u001b[36mINFO\u001b[39m] Execution time: 6.36 s\n"
     ]
    }
   ],
   "source": [
    "!cd .. && protostar test tests/test_Oracle.cairo"
   ]
  }
 ],
 "metadata": {
  "kernelspec": {
   "display_name": "Python 3 (ipykernel)",
   "language": "python",
   "name": "python3"
  },
  "language_info": {
   "codemirror_mode": {
    "name": "ipython",
    "version": 3
   },
   "file_extension": ".py",
   "mimetype": "text/x-python",
   "name": "python",
   "nbconvert_exporter": "python",
   "pygments_lexer": "ipython3",
   "version": "3.10.7"
  }
 },
 "nbformat": 4,
 "nbformat_minor": 5
}
