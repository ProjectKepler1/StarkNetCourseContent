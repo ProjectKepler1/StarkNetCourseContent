{
 "cells": [
  {
   "cell_type": "markdown",
   "id": "c8a655a0",
   "metadata": {},
   "source": [
    "### GitHub Repository\n",
    "\n",
    "Browse it here https://github.com/immutable/StarkNetCourseContent"
   ]
  },
  {
   "cell_type": "markdown",
   "id": "567ec643",
   "metadata": {},
   "source": [
    "### About Jupyter Notebooks\n",
    "\n",
    "A *Jupyter Notebook* can be used either as a static reference, where you can look at commands and their outputs, or as a dynamic playground, where you interact with the contents and execute the notebook to check results.\n",
    "\n",
    "Notebooks are useful because they provide both theory, explanations and **executable** code in a single place.\n",
    "\n",
    "You can view the notebook as a static resource in [GitHub][gh-notebook] itself.\n",
    "\n",
    "[gh-notebook]: https://github.com/immutable/StarkNetCourseContent/blob/feat/proxy-and-oracle/src/StarkNet%20Course%20Week%208.ipynb\n",
    "\n",
    "To interact with it, you will need to download the repository and make sure you have a proper setup locally."
   ]
  },
  {
   "cell_type": "markdown",
   "id": "f6063542",
   "metadata": {},
   "source": [
    "### Running Notebooks locally\n",
    "\n",
    "To execute notebooks locally, check out the [Setup][setup] documentation in the _README.md_ for the GitHub repository of the course.\n",
    "\n",
    "You will then need to [install Jupyter][jup]. After that you can start up the course notebooks by running:\n",
    "\n",
    "```sh\n",
    "git clone git@github.com:immutable/StarkNetCourseContent\n",
    "cd StarkNetCourseContent\n",
    "jupyter notebook\n",
    "```\n",
    "\n",
    "Browse the `notebooks/` directory and find the one you are interested in.\n",
    "\n",
    "[setup]: https://github.com/immutable/StarkNetCourseContent#setup\n",
    "[jup]: https://jupyter.org/install#jupyter-notebook"
   ]
  },
  {
   "cell_type": "markdown",
   "id": "46cdfdd2",
   "metadata": {},
   "source": [
    "# StarkNet Course: Week 8\n",
    "\n",
    "This week we are using oracles as a case study for StarkNet smart contracts. Through this notebook, you will:\n",
    "\n",
    "- Prepare your _StarkNet_ wallet.\n",
    "- Create an oracle contract, step by step.\n",
    "- Execute tests to make sure the contract conforms to the specifications.\n",
    "- Deploy the contract.\n",
    "- Interact with the deployed contract using the wallet."
   ]
  },
  {
   "cell_type": "markdown",
   "id": "f9737145",
   "metadata": {},
   "source": [
    "# Creating your Wallet"
   ]
  },
  {
   "cell_type": "code",
   "execution_count": 20,
   "id": "fb432e2b",
   "metadata": {
    "scrolled": true
   },
   "outputs": [
    {
     "name": "stdout",
     "output_type": "stream",
     "text": [
      "Sent deploy account contract transaction.\n",
      "\n",
      "NOTE: This is a modified version of the OpenZeppelin account contract. The signature is computed\n",
      "differently.\n",
      "\n",
      "Contract address: 0x004765409f0dd450fa303e5f7cebfb1304b2f495b5ce940da8a5aa779018a412\n",
      "Public key: 0x0283bf6ee82c97f7a0edc14f27f54ebedcdd48be64fc74ac127224fd03a8bbb0\n",
      "Transaction hash: 0x20a075beee7a3de1b28678f120918e91e9971898cd575285bd3df95b9bbcd1d\n",
      "\n"
     ]
    }
   ],
   "source": [
    "%%bash\n",
    "\n",
    "# REPLACE!! with your venv from the `setup` step above\n",
    "source ~/cairo38_venv/bin/activate\n",
    "# The kind of contract we use for our account\n",
    "export STARKNET_WALLET=starkware.starknet.wallets.open_zeppelin.OpenZeppelinAccount\n",
    "# Create an wallet for us\n",
    "starknet deploy_account --network alpha-goerli"
   ]
  },
  {
   "cell_type": "markdown",
   "id": "c2ba3c0e",
   "metadata": {},
   "source": [
    "# Adding Funds to your Wallet\n",
    "\n",
    "To add funds, use the [StarkNet Faucet][faucet] with the address generated above (i.e.: the _Contract Address_).\n",
    "\n",
    "[faucet]: https://faucet.goerli.starknet.io/"
   ]
  },
  {
   "cell_type": "markdown",
   "id": "cea0a732",
   "metadata": {},
   "source": [
    "# Implementing an Oracle Contract"
   ]
  },
  {
   "cell_type": "markdown",
   "id": "69fc77d9",
   "metadata": {},
   "source": [
    "### The `%%file` Magic\n",
    "\n",
    "You will notice we use `%%file` or `%%file -a` in several places below. It simply means \"overwrite the file specified with the contents below\" or for `%%file -a` \"append the below to the specified file\".\n",
    "\n",
    "> TL;DR: each code box below appends to a file, so after executing all of them we will have a finished contract file."
   ]
  },
  {
   "cell_type": "markdown",
   "id": "d06de076",
   "metadata": {},
   "source": [
    "### Imports\n",
    "\n",
    "Like any good program, we start out by importing some external code to make our lives easier.\n",
    "\n",
    "- `HashBuiltin` to read and write to the contract storage.\n",
    "- `get_block_number` to use as timestamps for our oracle data points.\n",
    "- `assert_lt` and `unsigned_div_rem` to process and validate inputs.\n",
    "\n",
    "And also, `Ownable` from [OpenZeppelin][oz] so we can make sure our contract has proper access control.\n",
    "\n",
    "[oz]: https://docs.openzeppelin.com/contracts-cairo/"
   ]
  },
  {
   "cell_type": "code",
   "execution_count": 115,
   "id": "92da7ba1",
   "metadata": {},
   "outputs": [
    {
     "name": "stdout",
     "output_type": "stream",
     "text": [
      "Overwriting ../src/Oracle.cairo\n"
     ]
    }
   ],
   "source": [
    "%%file \"../src/Oracle.cairo\"\n",
    "\n",
    "%lang starknet\n",
    "\n",
    "// From the Cairo \"standard library\"\n",
    "from starkware.cairo.common.cairo_builtins import HashBuiltin\n",
    "from starkware.starknet.common.syscalls import get_block_number\n",
    "from starkware.cairo.common.math import assert_lt, unsigned_div_rem\n",
    "\n",
    "// From OpenZeppelin!\n",
    "from openzeppelin.access.ownable.library import Ownable"
   ]
  },
  {
   "cell_type": "markdown",
   "id": "30e7310e",
   "metadata": {},
   "source": [
    "### Types of Oracles\n",
    "\n",
    "There are two major uses for oracles in the blockchain world:\n",
    "\n",
    "- Timeseries data, usually for prices. This is usually the default interpretation for \"oracle\".\n",
    "- Verifiable Random Functions (VRF): Hashes that can be proved to come from some input. Extremely useful for randomness in contracts.\n",
    "\n",
    "### Storing Timeseries Data in StarkNet\n",
    "\n",
    "In this notebook, we are going to implement a simplified version of the first use case: _timeseries_, or simply put, some function/variable that changes with time.\n",
    "\n",
    "For that, the first thing we need in our countract is some way of storing the value of the variable for each point in time. In _Cairo_, we write that as:"
   ]
  },
  {
   "cell_type": "code",
   "execution_count": 116,
   "id": "e62c7ba9",
   "metadata": {},
   "outputs": [
    {
     "name": "stdout",
     "output_type": "stream",
     "text": [
      "Appending to ../src/Oracle.cairo\n"
     ]
    }
   ],
   "source": [
    "%%file -a \"../src/Oracle.cairo\"\n",
    "\n",
    "@storage_var\n",
    "func timeseries(time: felt) -> (value: felt) {\n",
    "}"
   ]
  },
  {
   "cell_type": "markdown",
   "id": "d7559c2f",
   "metadata": {},
   "source": [
    "But then we also need to keep track of what the latest position in the timeseries is so we can retrieve it later on!"
   ]
  },
  {
   "cell_type": "code",
   "execution_count": 117,
   "id": "74d4dd62",
   "metadata": {},
   "outputs": [
    {
     "name": "stdout",
     "output_type": "stream",
     "text": [
      "Appending to ../src/Oracle.cairo\n"
     ]
    }
   ],
   "source": [
    "%%file -a \"../src/Oracle.cairo\"\n",
    "\n",
    "@storage_var\n",
    "func latest_time() -> (time: felt) {\n",
    "}"
   ]
  },
  {
   "cell_type": "markdown",
   "id": "8d354120",
   "metadata": {},
   "source": [
    "### Emitting Events for Tracking\n",
    "\n",
    "It is also a good idea to notify offchain systems of what is happening in the Oracle, so whenever we receive new data, we could emit an event:"
   ]
  },
  {
   "cell_type": "code",
   "execution_count": 118,
   "id": "bb051935",
   "metadata": {},
   "outputs": [
    {
     "name": "stdout",
     "output_type": "stream",
     "text": [
      "Appending to ../src/Oracle.cairo\n"
     ]
    }
   ],
   "source": [
    "%%file -a \"../src/Oracle.cairo\"\n",
    "\n",
    "@event\n",
    "func value_added(time: felt, value: felt) {\n",
    "}"
   ]
  },
  {
   "cell_type": "markdown",
   "id": "34b3ad0a",
   "metadata": {},
   "source": [
    "In this case, our event is simply a tuple `(time, value)`. In other words, whenever we have a new value added to our oracle, the contract will emit an event saying \"our variable has value y at time x\"."
   ]
  },
  {
   "cell_type": "markdown",
   "id": "181c210e",
   "metadata": {},
   "source": [
    "### Ownership and Access Control\n",
    "\n",
    "Next, we need to initialize the contract during deployment! This is specially important to make sure only the owner has access to it, otherwise anyone would be able to input values into the timeseries, making it impossible to trust the data.\n",
    "\n",
    "More advanced oracles will use a signature verification and a pool of many different submitters instead of having a single owner."
   ]
  },
  {
   "cell_type": "code",
   "execution_count": 119,
   "id": "c5bedfac",
   "metadata": {},
   "outputs": [
    {
     "name": "stdout",
     "output_type": "stream",
     "text": [
      "Appending to ../src/Oracle.cairo\n"
     ]
    }
   ],
   "source": [
    "%%file -a \"../src/Oracle.cairo\"\n",
    "\n",
    "@constructor\n",
    "func constructor{syscall_ptr: felt*, pedersen_ptr: HashBuiltin*, range_check_ptr}(owner: felt) {\n",
    "    Ownable.initializer(owner);\n",
    "\n",
    "    return ();\n",
    "}"
   ]
  },
  {
   "cell_type": "markdown",
   "id": "3e7059b0",
   "metadata": {},
   "source": [
    "### Internal Business Logic\n",
    "\n",
    "To make things more interesting, we are going to process each value added to our function in such a way that it can only be a number between 0-100.\n",
    "\n",
    "To do that, we are going to create a `_process_value` function that is not acessible externally. It will take a `felt` value and return a `felt` bounded between 0 and 100. The bounding process will simply be \"output 100 if the input is 100 or higher\"."
   ]
  },
  {
   "cell_type": "code",
   "execution_count": 120,
   "id": "9fc21d37",
   "metadata": {},
   "outputs": [
    {
     "name": "stdout",
     "output_type": "stream",
     "text": [
      "Appending to ../src/Oracle.cairo\n"
     ]
    }
   ],
   "source": [
    "%%file -a \"../src/Oracle.cairo\"\n",
    "\n",
    "func _process_value{range_check_ptr}(original: felt) -> (processed: felt) {\n",
    "    let (quotient, _) = unsigned_div_rem(original, 100);\n",
    "\n",
    "    if (quotient == 0) {\n",
    "        return (processed=original);\n",
    "    }\n",
    "\n",
    "    return (processed=100);\n",
    "}"
   ]
  },
  {
   "cell_type": "markdown",
   "id": "dca93136",
   "metadata": {},
   "source": [
    "### Data Ingestion\n",
    "\n",
    "Great! But how do we add information to the oracle? We need a function for that that can be called from outside the chain! This function is going to be called `ingest()`. It will take in a value and store it associated *with the current block*, which is our measure of time."
   ]
  },
  {
   "cell_type": "code",
   "execution_count": 121,
   "id": "2be23957",
   "metadata": {},
   "outputs": [
    {
     "name": "stdout",
     "output_type": "stream",
     "text": [
      "Appending to ../src/Oracle.cairo\n"
     ]
    }
   ],
   "source": [
    "%%file -a \"../src/Oracle.cairo\"\n",
    "\n",
    "@external\n",
    "func ingest{syscall_ptr: felt*, pedersen_ptr: HashBuiltin*, range_check_ptr}(value: felt) {\n",
    "    Ownable.assert_only_owner();\n",
    "\n",
    "    let (tip) = latest_time.read();\n",
    "    let (time) = get_block_number();\n",
    "    \n",
    "    with_attr error_message(\"Value already ingested at current block\") {\n",
    "        assert_lt(tip, time);\n",
    "    }\n",
    "    \n",
    "    let (processed_value) = _process_value(value);\n",
    "    timeseries.write(time, processed_value);\n",
    "    latest_time.write(time);\n",
    "    \n",
    "    value_added.emit(time, processed_value);\n",
    "    \n",
    "    return ();\n",
    "}"
   ]
  },
  {
   "cell_type": "markdown",
   "id": "96d6798d",
   "metadata": {},
   "source": [
    "### Accessing Information from Other Contracts\n",
    "\n",
    "Finally we should provide blockchain users (e.g.: other contracts) with some form of fetching the information inside the chain:"
   ]
  },
  {
   "cell_type": "code",
   "execution_count": 122,
   "id": "d15aca32",
   "metadata": {},
   "outputs": [
    {
     "name": "stdout",
     "output_type": "stream",
     "text": [
      "Appending to ../src/Oracle.cairo\n"
     ]
    }
   ],
   "source": [
    "%%file -a \"../src/Oracle.cairo\"\n",
    "\n",
    "@view\n",
    "func value_at{syscall_ptr: felt*, pedersen_ptr: HashBuiltin*, range_check_ptr}(time: felt) -> (value: felt) {\n",
    "    return timeseries.read(time);\n",
    "}\n",
    "\n",
    "@view\n",
    "func latest_timestamp{syscall_ptr: felt*, pedersen_ptr: HashBuiltin*, range_check_ptr}() -> (time: felt) {\n",
    "    return latest_time.read();\n",
    "}\n",
    "\n",
    "@view\n",
    "func latest_value{syscall_ptr: felt*, pedersen_ptr: HashBuiltin*, range_check_ptr}() -> (value: felt) {\n",
    "    let (tip) = latest_time.read();\n",
    "    \n",
    "    return value_at(tip);\n",
    "}\n"
   ]
  },
  {
   "cell_type": "markdown",
   "id": "899fc70c",
   "metadata": {},
   "source": [
    "Excellent! We have a full contract written to `../src/Oracle.cairo` now! We just need to test it actually implements everything correctly and then deploy & play with it!\n",
    "\n",
    "### Browse the Full Contract Source Code\n",
    "\n",
    "⚠️ link only available when running locally ⚠️\n",
    "\n",
    "[../src/Oracle.cairo](/edit/src/Oracle.cairo)"
   ]
  },
  {
   "cell_type": "markdown",
   "id": "6d6cba00",
   "metadata": {},
   "source": [
    "# Tests\n",
    "\n",
    "Lets check our implementation by running [Protostar][protostar].\n",
    "\n",
    "[protostar]: https://docs.swmansion.com/protostar/"
   ]
  },
  {
   "cell_type": "code",
   "execution_count": 123,
   "id": "ca95616a",
   "metadata": {
    "scrolled": true
   },
   "outputs": [
    {
     "name": "stderr",
     "output_type": "stream",
     "text": [
      "\u001b[90m10:42:01\u001b[39m [\u001b[36mINFO\u001b[39m] Collected 1 suite, and 4 test cases (0.059 s)\n",
      "\u001b[90m10:42:06\u001b[39m [\u001b[36mINFO\u001b[39m] \u001b[1mTest suites: \u001b[22m\u001b[32m1 passed\u001b[39m, 1 total\n",
      "\u001b[90m10:42:06\u001b[39m [\u001b[36mINFO\u001b[39m] \u001b[1mTests:       \u001b[22m\u001b[32m4 passed\u001b[39m, 4 total\n",
      "\u001b[90m10:42:06\u001b[39m [\u001b[36mINFO\u001b[39m] \u001b[1mSeed:        \u001b[22m384626648\n",
      "\u001b[90m10:42:06\u001b[39m [\u001b[36mINFO\u001b[39m] Execution time: 6.44 s\n"
     ]
    },
    {
     "name": "stdout",
     "output_type": "stream",
     "text": [
      "[\u001b[32mPASS\u001b[39m] \u001b[90mtests/test_Oracle.cairo\u001b[39m test_ingest_overflowing_value \u001b[90m(time=\u001b[1m0.11\u001b[22ms, steps=\u001b[1m451\u001b[22m, memory_holes=\u001b[1m20\u001b[22m)\u001b[39m\n",
      "       \u001b[90mpedersen_builtin=\u001b[1m2\u001b[22m\u001b[39m \u001b[90mrange_check_builtin=\u001b[1m10\u001b[22m\u001b[39m\n",
      "[\u001b[32mPASS\u001b[39m] \u001b[90mtests/test_Oracle.cairo\u001b[39m test_ingest_edge_value \u001b[90m(time=\u001b[1m0.11\u001b[22ms, steps=\u001b[1m451\u001b[22m, memory_holes=\u001b[1m20\u001b[22m)\u001b[39m\n",
      "       \u001b[90mpedersen_builtin=\u001b[1m2\u001b[22m\u001b[39m \u001b[90mrange_check_builtin=\u001b[1m10\u001b[22m\u001b[39m\n",
      "[\u001b[32mPASS\u001b[39m] \u001b[90mtests/test_Oracle.cairo\u001b[39m test_ingest_values \u001b[90m(time=\u001b[1m0.37\u001b[22ms, steps=\u001b[1m858\u001b[22m, memory_holes=\u001b[1m40\u001b[22m)\u001b[39m\n",
      "       \u001b[90mpedersen_builtin=\u001b[1m4\u001b[22m\u001b[39m \u001b[90mrange_check_builtin=\u001b[1m20\u001b[22m\u001b[39m\n",
      "[\u001b[32mPASS\u001b[39m] \u001b[90mtests/test_Oracle.cairo\u001b[39m test_ingest_value \u001b[90m(time=\u001b[1m0.11\u001b[22ms, steps=\u001b[1m451\u001b[22m, memory_holes=\u001b[1m20\u001b[22m)\u001b[39m\n",
      "       \u001b[90mpedersen_builtin=\u001b[1m2\u001b[22m\u001b[39m \u001b[90mrange_check_builtin=\u001b[1m10\u001b[22m\u001b[39m\n",
      "\n"
     ]
    }
   ],
   "source": [
    "%%bash\n",
    "\n",
    "cd ..\n",
    "protostar test tests/test_Oracle.cairo"
   ]
  },
  {
   "cell_type": "markdown",
   "id": "64a6a802",
   "metadata": {},
   "source": [
    "Everything looking good! Now we just need to deploy our finished contract and play around with it!"
   ]
  },
  {
   "cell_type": "markdown",
   "id": "9670fa1c",
   "metadata": {},
   "source": [
    "# Compiling the Contract"
   ]
  },
  {
   "cell_type": "code",
   "execution_count": 81,
   "id": "3ae80046",
   "metadata": {
    "scrolled": true
   },
   "outputs": [
    {
     "name": "stderr",
     "output_type": "stream",
     "text": [
      "\u001b[90m23:52:49\u001b[39m [\u001b[36mINFO\u001b[39m] Built the project successfully\n",
      "\u001b[90m23:52:49\u001b[39m [\u001b[36mINFO\u001b[39m] Execution time: 4.24 s\n"
     ]
    },
    {
     "name": "stdout",
     "output_type": "stream",
     "text": [
      "\r",
      "                                                                                \r",
      "\r",
      "                                                                                \r"
     ]
    }
   ],
   "source": [
    "%%bash\n",
    "\n",
    "cd ..\n",
    "\n",
    "protostar build"
   ]
  },
  {
   "cell_type": "markdown",
   "id": "0645f536",
   "metadata": {},
   "source": [
    "# Deploying the Contract\n",
    "\n",
    "Now we can deploy our contract to `testnet`. Note that we use the wallet address we created in the first step as the owner, so replace with yours:"
   ]
  },
  {
   "cell_type": "code",
   "execution_count": 82,
   "id": "6d89251e",
   "metadata": {
    "scrolled": false
   },
   "outputs": [
    {
     "name": "stderr",
     "output_type": "stream",
     "text": [
      "\u001b[90m23:52:56\u001b[39m [\u001b[36mINFO\u001b[39m] Deploy transaction was sent.\n",
      "Contract address: 0x0293496496ba87bcd4c0e277bacffd7064475a26fdf009706968dd310c1429fb\n",
      "Transaction hash: 0x06236f0fbd4a287194cbb953140bab23afb577429e7fa50f28b2cac733460e6e\n",
      "\n",
      "https://goerli.voyager.online/contract/0x0293496496ba87bcd4c0e277bacffd7064475a26fdf009706968dd310c1429fb\n",
      "\u001b[90m23:52:56\u001b[39m [\u001b[36mINFO\u001b[39m] Execution time: 4.19 s\n"
     ]
    },
    {
     "name": "stdout",
     "output_type": "stream",
     "text": [
      "\r",
      "                                                                                \r"
     ]
    }
   ],
   "source": [
    "%%bash\n",
    "\n",
    "cd ..\n",
    "\n",
    "protostar deploy ./build/oracle.json \\\n",
    "                 --network testnet \\\n",
    "                 --inputs 0x004765409f0dd450fa303e5f7cebfb1304b2f495b5ce940da8a5aa779018a412"
   ]
  },
  {
   "cell_type": "markdown",
   "id": "45f354d3",
   "metadata": {},
   "source": [
    "# Ingesting Data\n",
    "\n",
    "Below we call the `invoke()` function in the contract with the value `42`:"
   ]
  },
  {
   "cell_type": "code",
   "execution_count": 84,
   "id": "53806fbd",
   "metadata": {},
   "outputs": [
    {
     "name": "stdout",
     "output_type": "stream",
     "text": [
      "Sending the transaction with max_fee: 0.000000 ETH.\n",
      "Invoke transaction was sent.\n",
      "Contract address: 0x0293496496ba87bcd4c0e277bacffd7064475a26fdf009706968dd310c1429fb\n",
      "Transaction hash: 0x69593ec4c1b92a5781c9630614708c9af8c13abc395a2536d0655f142ba429c\n"
     ]
    }
   ],
   "source": [
    "%%bash\n",
    "\n",
    "source ~/cairo38_venv/bin/activate\n",
    "cd ..\n",
    "\n",
    "export STARKNET_WALLET=starkware.starknet.wallets.open_zeppelin.OpenZeppelinAccount\n",
    "\n",
    "starknet invoke \\\n",
    "         --network alpha-goerli \\\n",
    "         --address 0x0293496496ba87bcd4c0e277bacffd7064475a26fdf009706968dd310c1429fb \\\n",
    "         --abi build/oracle_abi.json \\\n",
    "         --function ingest \\\n",
    "         --inputs 42"
   ]
  },
  {
   "cell_type": "markdown",
   "id": "6b1bd427",
   "metadata": {},
   "source": [
    "# Retrieving Data\n",
    "\n",
    "After the ingestion transaction gets completed, we can verify it actually works by checking the `latest_value()`!"
   ]
  },
  {
   "cell_type": "code",
   "execution_count": 86,
   "id": "b09dd502",
   "metadata": {
    "scrolled": false
   },
   "outputs": [
    {
     "name": "stdout",
     "output_type": "stream",
     "text": [
      "42\n"
     ]
    }
   ],
   "source": [
    "%%bash\n",
    "\n",
    "source ~/cairo38_venv/bin/activate\n",
    "cd ..\n",
    "\n",
    "starknet call \\\n",
    "         --network alpha-goerli \\\n",
    "         --address 0x0293496496ba87bcd4c0e277bacffd7064475a26fdf009706968dd310c1429fb \\\n",
    "         --abi build/oracle_abi.json \\\n",
    "         --function latest_value"
   ]
  },
  {
   "cell_type": "markdown",
   "id": "d3f337c0",
   "metadata": {},
   "source": [
    "And also the block number (i.e.: timestamp) for that value:"
   ]
  },
  {
   "cell_type": "code",
   "execution_count": 87,
   "id": "94680f9b",
   "metadata": {},
   "outputs": [
    {
     "name": "stdout",
     "output_type": "stream",
     "text": [
      "345634\n"
     ]
    }
   ],
   "source": [
    "%%bash\n",
    "\n",
    "source ~/cairo38_venv/bin/activate\n",
    "cd ..\n",
    "\n",
    "starknet call \\\n",
    "         --network alpha-goerli \\\n",
    "         --address 0x0293496496ba87bcd4c0e277bacffd7064475a26fdf009706968dd310c1429fb \\\n",
    "         --abi build/oracle_abi.json \\\n",
    "         --function latest_timestamp"
   ]
  },
  {
   "cell_type": "markdown",
   "id": "42cf776e",
   "metadata": {},
   "source": [
    "# Using Voyager\n",
    "\n",
    "Note that we can also use [Voyager][voyager] to interact with the contract.\n",
    "\n",
    "[voyager]: https://voyager.online"
   ]
  }
 ],
 "metadata": {
  "kernelspec": {
   "display_name": "Python 3 (ipykernel)",
   "language": "python",
   "name": "python3"
  },
  "language_info": {
   "codemirror_mode": {
    "name": "ipython",
    "version": 3
   },
   "file_extension": ".py",
   "mimetype": "text/x-python",
   "name": "python",
   "nbconvert_exporter": "python",
   "pygments_lexer": "ipython3",
   "version": "3.10.7"
  }
 },
 "nbformat": 4,
 "nbformat_minor": 5
}
